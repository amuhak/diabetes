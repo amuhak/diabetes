{
 "cells": [
  {
   "cell_type": "code",
   "execution_count": 5,
   "id": "initial_id",
   "metadata": {
    "collapsed": true,
    "ExecuteTime": {
     "end_time": "2023-08-16T15:41:17.385733600Z",
     "start_time": "2023-08-16T15:41:17.289391300Z"
    }
   },
   "outputs": [],
   "source": [
    "# https://www.kaggle.com/datasets/alexteboul/diabetes-health-indicators-DATASET\n",
    "import matplotlib.pyplot as plt\n",
    "import numpy as np\n",
    "import pandas as pd\n",
    "import torch\n",
    "import torch.nn as nn\n",
    "import torch.optim as optim\n",
    "from sklearn.model_selection import train_test_split\n",
    "from sklearn.preprocessing import StandardScaler\n",
    "from torch.utils.data import DataLoader, TensorDataset\n",
    "from tqdm import tqdm\n",
    "import autokeras as ak"
   ]
  },
  {
   "cell_type": "code",
   "execution_count": 6,
   "outputs": [],
   "source": [
    "data = pd.read_csv(\"merged.csv\")"
   ],
   "metadata": {
    "collapsed": false,
    "ExecuteTime": {
     "end_time": "2023-08-16T15:41:20.583589600Z",
     "start_time": "2023-08-16T15:41:18.907612500Z"
    }
   },
   "id": "7f0d1437b904d9e1"
  },
  {
   "cell_type": "code",
   "execution_count": 7,
   "outputs": [],
   "source": [
    "X = data.drop(\"Diabetes_binary\", axis=1)\n",
    "Y = data[\"Diabetes_binary\"]"
   ],
   "metadata": {
    "collapsed": false,
    "ExecuteTime": {
     "end_time": "2023-08-16T15:41:40.407293600Z",
     "start_time": "2023-08-16T15:41:40.301539100Z"
    }
   },
   "id": "d6fae3b3d8d9f147"
  },
  {
   "cell_type": "code",
   "execution_count": 8,
   "outputs": [],
   "source": [
    "X_train, X_test, y_train, y_test = train_test_split(\n",
    "    X, Y, test_size=0.2, random_state=3, stratify=Y, shuffle=True\n",
    ")"
   ],
   "metadata": {
    "collapsed": false,
    "ExecuteTime": {
     "end_time": "2023-08-16T15:41:51.480617Z",
     "start_time": "2023-08-16T15:41:51.192157600Z"
    }
   },
   "id": "7d165d87caf4bfb8"
  },
  {
   "cell_type": "code",
   "execution_count": 12,
   "outputs": [
    {
     "ename": "NameError",
     "evalue": "name 'self' is not defined",
     "output_type": "error",
     "traceback": [
      "\u001B[0;31m---------------------------------------------------------------------------\u001B[0m",
      "\u001B[0;31mNameError\u001B[0m                                 Traceback (most recent call last)",
      "Cell \u001B[0;32mIn[12], line 3\u001B[0m\n\u001B[1;32m      1\u001B[0m \u001B[38;5;28;01mfrom\u001B[39;00m \u001B[38;5;21;01mautokeras\u001B[39;00m \u001B[38;5;28;01mimport\u001B[39;00m StructuredDataClassifier\n\u001B[0;32m----> 3\u001B[0m modal \u001B[38;5;241m=\u001B[39mStructuredDataClassifier\u001B[38;5;241m.\u001B[39mfit(\u001B[38;5;28;43mself\u001B[39;49m,\n\u001B[1;32m      4\u001B[0m     x\u001B[38;5;241m=\u001B[39mX, y\u001B[38;5;241m=\u001B[39mY, epochs\u001B[38;5;241m=\u001B[39m\u001B[38;5;241m10\u001B[39m, validation_split\u001B[38;5;241m=\u001B[39m\u001B[38;5;241m0.2\u001B[39m, verbose\u001B[38;5;241m=\u001B[39m\u001B[38;5;28;01mTrue\u001B[39;00m\n\u001B[1;32m      5\u001B[0m )\n",
      "\u001B[0;31mNameError\u001B[0m: name 'self' is not defined"
     ]
    }
   ],
   "source": [
    "from autokeras import StructuredDataClassifier\n",
    "\n",
    "modal =StructuredDataClassifier.fit(self,\n",
    "    x=X, y=Y, epochs=10, validation_split=0.2, verbose=True\n",
    ")\n"
   ],
   "metadata": {
    "collapsed": false,
    "ExecuteTime": {
     "end_time": "2023-08-16T15:43:57.226912500Z",
     "start_time": "2023-08-16T15:43:57.196339900Z"
    }
   },
   "id": "22913feee3814aee"
  },
  {
   "cell_type": "code",
   "execution_count": null,
   "outputs": [],
   "source": [],
   "metadata": {
    "collapsed": false
   },
   "id": "e9c600986137f3fd"
  }
 ],
 "metadata": {
  "kernelspec": {
   "display_name": "Python 3",
   "language": "python",
   "name": "python3"
  },
  "language_info": {
   "codemirror_mode": {
    "name": "ipython",
    "version": 2
   },
   "file_extension": ".py",
   "mimetype": "text/x-python",
   "name": "python",
   "nbconvert_exporter": "python",
   "pygments_lexer": "ipython2",
   "version": "2.7.6"
  }
 },
 "nbformat": 4,
 "nbformat_minor": 5
}
